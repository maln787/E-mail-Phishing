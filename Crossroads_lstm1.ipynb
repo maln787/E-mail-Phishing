{
  "nbformat": 4,
  "nbformat_minor": 0,
  "metadata": {
    "colab": {
      "name": "Crossroads_lstm.ipynb",
      "provenance": [],
      "collapsed_sections": []
    },
    "kernelspec": {
      "name": "python3",
      "display_name": "Python 3"
    },
    "language_info": {
      "name": "python"
    }
  },
  "cells": [
    {
      "cell_type": "code",
      "execution_count": null,
      "metadata": {
        "id": "3KyrrlZcD-R_"
      },
      "outputs": [],
      "source": [
        ""
      ]
    },
    {
      "cell_type": "code",
      "source": [
        "import pandas as pd\n",
        "import numpy as np\n",
        "import matplotlib.pyplot as plt\n",
        "import seaborn as sns\n",
        "from sklearn.model_selection import train_test_split\n",
        "from sklearn.preprocessing import LabelEncoder\n",
        "from keras.models import Model\n",
        "from keras.layers import LSTM, Activation, Dense, Dropout, Input, Embedding\n",
        "from tensorflow import keras\n",
        "from tensorflow.keras.optimizers import Adam, RMSprop\n",
        "from keras.preprocessing.text import Tokenizer\n",
        "from keras.preprocessing import sequence\n",
        "from keras.callbacks import EarlyStopping\n",
        "from sklearn.feature_extraction.text import CountVectorizer\n",
        "from sklearn.model_selection import train_test_split\n",
        "\n"
      ],
      "metadata": {
        "id": "U-17cMAhEgt1"
      },
      "execution_count": null,
      "outputs": []
    },
    {
      "cell_type": "code",
      "source": [
        "df = pd.read_csv('corpus.csv')\n",
        "df.dropna(inplace=True)\n",
        "corpus = list(df['messages'])"
      ],
      "metadata": {
        "id": "06Ne_WZaEHAu"
      },
      "execution_count": null,
      "outputs": []
    },
    {
      "cell_type": "code",
      "source": [
        "# cv = CountVectorizer(max_features = 20000)\n",
        "# X = cv.fit_transform(corpus).toarray()\n",
        "# y = df['target'].values"
      ],
      "metadata": {
        "id": "GuzLuvnxFf8d"
      },
      "execution_count": null,
      "outputs": []
    },
    {
      "cell_type": "code",
      "source": [
        "X = df.messages\n",
        "y = df.target"
      ],
      "metadata": {
        "id": "i4DqGeFVHY_J"
      },
      "execution_count": null,
      "outputs": []
    },
    {
      "cell_type": "code",
      "source": [
        "X_train, X_test, Y_train, Y_test = train_test_split(X, y, test_size=0.15, stratify = y)"
      ],
      "metadata": {
        "id": "HO3IiXGwFKbR"
      },
      "execution_count": null,
      "outputs": []
    },
    {
      "cell_type": "code",
      "source": [
        "max_words = 20000\n",
        "max_len = 15000\n",
        "tok = Tokenizer(num_words=max_words)\n",
        "tok.fit_on_texts(X_train)\n",
        "sequences = tok.texts_to_sequences(X_train)\n",
        "sequences_matrix = sequence.pad_sequences(sequences,maxlen=max_len)\n",
        "print('sequences[2] length: ', len(sequences[2]))\n",
        "print('sequences length: ', len(sequences))"
      ],
      "metadata": {
        "colab": {
          "base_uri": "https://localhost:8080/"
        },
        "id": "VrHQaz8LHZGF",
        "outputId": "85368b26-2daa-4721-c0d6-05ea6a5c2dd7"
      },
      "execution_count": null,
      "outputs": [
        {
          "output_type": "stream",
          "name": "stdout",
          "text": [
            "sequences[2] length:  29\n",
            "sequences length:  43752\n"
          ]
        }
      ]
    },
    {
      "cell_type": "code",
      "source": [
        ""
      ],
      "metadata": {
        "id": "LxfwENtNGm-o"
      },
      "execution_count": null,
      "outputs": []
    },
    {
      "cell_type": "code",
      "source": [
        "\n",
        "def RNN():\n",
        "    inputs = Input(name='inputs',shape=[max_len])\n",
        "    layer = Embedding(max_words,128,input_length=max_len)(inputs)\n",
        "\n",
        "    layer = LSTM(64)(layer)\n",
        "    layer = Dense(128,name='FC1')(layer)\n",
        "    layer = Activation('leaky_relu')(layer)\n",
        "    layer = Dropout(0.4)(layer)\n",
        "\n",
        "    layer = Dense(64,name='FC2')(layer)\n",
        "    layer = Activation('leaky_relu')(layer)\n",
        "    layer = Dropout(0.6)(layer)\n",
        "\n",
        "    layer = Dense(64,name='FC3')(layer)\n",
        "    layer = Activation('leaky_relu')(layer)\n",
        "    layer = Dropout(0.7)(layer)\n",
        "\n",
        "    layer = Dense(1,name='out_layer')(layer)\n",
        "    layer = Activation('sigmoid')(layer)\n",
        "    model = Model(inputs=inputs,outputs=layer)\n",
        "    return model"
      ],
      "metadata": {
        "id": "I-zpGJqTFKw9"
      },
      "execution_count": null,
      "outputs": []
    },
    {
      "cell_type": "code",
      "source": [
        "model = RNN()\n",
        "model.summary()\n",
        "model.compile(loss='binary_crossentropy',optimizer=Adam(),metrics=['accuracy'])"
      ],
      "metadata": {
        "colab": {
          "base_uri": "https://localhost:8080/"
        },
        "id": "_hZ9KfW1FKzJ",
        "outputId": "de144d3d-0795-4452-d318-44d0d72dd6b3"
      },
      "execution_count": null,
      "outputs": [
        {
          "output_type": "stream",
          "name": "stdout",
          "text": [
            "Model: \"model_4\"\n",
            "_________________________________________________________________\n",
            " Layer (type)                Output Shape              Param #   \n",
            "=================================================================\n",
            " inputs (InputLayer)         [(None, 150)]             0         \n",
            "                                                                 \n",
            " embedding_8 (Embedding)     (None, 150, 128)          128000    \n",
            "                                                                 \n",
            " lstm_12 (LSTM)              (None, 64)                49408     \n",
            "                                                                 \n",
            " FC1 (Dense)                 (None, 128)               8320      \n",
            "                                                                 \n",
            " activation_12 (Activation)  (None, 128)               0         \n",
            "                                                                 \n",
            " dropout_8 (Dropout)         (None, 128)               0         \n",
            "                                                                 \n",
            " FC2 (Dense)                 (None, 64)                8256      \n",
            "                                                                 \n",
            " activation_13 (Activation)  (None, 64)                0         \n",
            "                                                                 \n",
            " dropout_9 (Dropout)         (None, 64)                0         \n",
            "                                                                 \n",
            " FC3 (Dense)                 (None, 64)                4160      \n",
            "                                                                 \n",
            " activation_14 (Activation)  (None, 64)                0         \n",
            "                                                                 \n",
            " dropout_10 (Dropout)        (None, 64)                0         \n",
            "                                                                 \n",
            " out_layer (Dense)           (None, 1)                 65        \n",
            "                                                                 \n",
            " activation_15 (Activation)  (None, 1)                 0         \n",
            "                                                                 \n",
            "=================================================================\n",
            "Total params: 198,209\n",
            "Trainable params: 198,209\n",
            "Non-trainable params: 0\n",
            "_________________________________________________________________\n"
          ]
        }
      ]
    },
    {
      "cell_type": "code",
      "source": [
        "# model.fit(sequences_matrix,Y_train,batch_size=128,epochs=10,\n",
        "#           validation_split=0.2,callbacks=[EarlyStopping(monitor='val_loss',min_delta=0.0001)])\n",
        "model.fit(sequences_matrix,Y_train,batch_size=64,epochs=3,\n",
        "          validation_split=0.2)"
      ],
      "metadata": {
        "colab": {
          "base_uri": "https://localhost:8080/"
        },
        "id": "Uyz2uoxeFK1Z",
        "outputId": "9a8e4429-2ae2-4279-b7ab-7982029c716d"
      },
      "execution_count": null,
      "outputs": [
        {
          "output_type": "stream",
          "name": "stdout",
          "text": [
            "Epoch 1/3\n",
            "547/547 [==============================] - 163s 151ms/step - loss: 0.3686 - accuracy: 0.8011 - val_loss: 0.3130 - val_accuracy: 0.8229\n",
            "Epoch 2/3\n",
            "547/547 [==============================] - 81s 147ms/step - loss: 0.3299 - accuracy: 0.8131 - val_loss: 0.2917 - val_accuracy: 0.8263\n",
            "Epoch 3/3\n",
            "547/547 [==============================] - 81s 148ms/step - loss: 0.3009 - accuracy: 0.8211 - val_loss: 0.2954 - val_accuracy: 0.8258\n"
          ]
        },
        {
          "output_type": "execute_result",
          "data": {
            "text/plain": [
              "<keras.callbacks.History at 0x7f61b454ac50>"
            ]
          },
          "metadata": {},
          "execution_count": 52
        }
      ]
    },
    {
      "cell_type": "code",
      "source": [
        "test_sequences = tok.texts_to_sequences(X_test)\n",
        "test_sequences_matrix = sequence.pad_sequences(test_sequences,maxlen=max_len)"
      ],
      "metadata": {
        "id": "S05_LxZXFK3q"
      },
      "execution_count": null,
      "outputs": []
    },
    {
      "cell_type": "code",
      "source": [
        "accr = model.evaluate(test_sequences_matrix,Y_test)"
      ],
      "metadata": {
        "colab": {
          "base_uri": "https://localhost:8080/"
        },
        "id": "bvAzrzkZFK6Z",
        "outputId": "5c6647fa-cc6e-46a0-f1cb-9b3dd08132da"
      },
      "execution_count": null,
      "outputs": [
        {
          "output_type": "stream",
          "name": "stdout",
          "text": [
            "242/242 [==============================] - 6s 24ms/step - loss: 0.2928 - accuracy: 0.8239\n"
          ]
        }
      ]
    },
    {
      "cell_type": "code",
      "source": [
        "print('Test set\\n  Loss: {:0.3f}\\n  Accuracy: {:0.3f}'.format(accr[0],accr[1]))"
      ],
      "metadata": {
        "colab": {
          "base_uri": "https://localhost:8080/"
        },
        "id": "qrgqA5YoJyBw",
        "outputId": "c52b62dd-baf6-45cb-e52f-0c74c1f89f6b"
      },
      "execution_count": null,
      "outputs": [
        {
          "output_type": "stream",
          "name": "stdout",
          "text": [
            "Test set\n",
            "  Loss: 0.293\n",
            "  Accuracy: 0.824\n"
          ]
        }
      ]
    },
    {
      "cell_type": "code",
      "source": [
        "test = pd.read_csv('test.csv')"
      ],
      "metadata": {
        "id": "uL3ZAAPkKR9F"
      },
      "execution_count": null,
      "outputs": []
    },
    {
      "cell_type": "code",
      "source": [
        "id = test['Id']\n",
        "test = test[['Subject','Body']]\n",
        "test['messages'] = test['Subject']+' '+test['Body']"
      ],
      "metadata": {
        "id": "VppA1plTKkfN"
      },
      "execution_count": null,
      "outputs": []
    },
    {
      "cell_type": "code",
      "source": [
        "test_sequences = tok.texts_to_sequences(test['messages'].astype(str))\n",
        "test_sequences_matrix = sequence.pad_sequences(test_sequences,maxlen=max_len)"
      ],
      "metadata": {
        "id": "_L7nd_U3KYil"
      },
      "execution_count": null,
      "outputs": []
    },
    {
      "cell_type": "code",
      "source": [
        "test_prob = model.predict(test_sequences_matrix)"
      ],
      "metadata": {
        "id": "m8DPiQu_KjIE"
      },
      "execution_count": null,
      "outputs": []
    },
    {
      "cell_type": "code",
      "source": [
        "submission = pd.DataFrame()\n",
        "submission['Id'] = id\n",
        "submission['Flag'] = test_prob.flatten()\n",
        "submission = submission.set_index('Id')\n"
      ],
      "metadata": {
        "id": "xts_6pllK6-U"
      },
      "execution_count": null,
      "outputs": []
    },
    {
      "cell_type": "code",
      "source": [
        "submission.to_csv('submission.csv')"
      ],
      "metadata": {
        "id": "uPFMBQN6LYcz"
      },
      "execution_count": null,
      "outputs": []
    },
    {
      "cell_type": "code",
      "source": [
        ""
      ],
      "metadata": {
        "id": "s1_uGBGJLZ_A"
      },
      "execution_count": null,
      "outputs": []
    }
  ]
}