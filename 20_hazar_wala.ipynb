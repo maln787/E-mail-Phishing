{
 "cells": [
  {
   "cell_type": "code",
   "execution_count": 1,
   "id": "17c49ad0",
   "metadata": {},
   "outputs": [],
   "source": [
    "import pandas as pd"
   ]
  },
  {
   "cell_type": "code",
   "execution_count": 56,
   "id": "020ec8d3",
   "metadata": {},
   "outputs": [],
   "source": [
    "df = pd.read_csv('Email-trainingdata-20k.csv')\n"
   ]
  },
  {
   "cell_type": "code",
   "execution_count": 57,
   "id": "e737ade9",
   "metadata": {},
   "outputs": [],
   "source": [
    "df = df.reset_index()"
   ]
  },
  {
   "cell_type": "code",
   "execution_count": 58,
   "id": "498f2e05",
   "metadata": {},
   "outputs": [],
   "source": [
    "for row in df.itertuples():\n",
    "    x = row.index[9:]\n",
    "    df.at[row.Index, 'index'] = x\n",
    "    "
   ]
  },
  {
   "cell_type": "code",
   "execution_count": 59,
   "id": "bf3c0b71",
   "metadata": {},
   "outputs": [],
   "source": [
    "df.drop(columns=['phishing'],inplace=True)\n"
   ]
  },
  {
   "cell_type": "code",
   "execution_count": 62,
   "id": "aef03a49",
   "metadata": {},
   "outputs": [
    {
     "data": {
      "text/plain": [
       "'want to make more money ? order confirmation . your order should be shipped by january , via fedex . your federal express tracking number is % random _ word . thank you for registering . your userid is : % random _ word learn to make a fortune with ebay ! complete turnkey system software - videos - turorials clck here if you would not like to receive future mailings . '"
      ]
     },
     "execution_count": 62,
     "metadata": {},
     "output_type": "execute_result"
    }
   ],
   "source": []
  },
  {
   "cell_type": "code",
   "execution_count": null,
   "id": "af9cfe79",
   "metadata": {},
   "outputs": [],
   "source": []
  }
 ],
 "metadata": {
  "kernelspec": {
   "display_name": "Python 3",
   "language": "python",
   "name": "python3"
  },
  "language_info": {
   "codemirror_mode": {
    "name": "ipython",
    "version": 3
   },
   "file_extension": ".py",
   "mimetype": "text/x-python",
   "name": "python",
   "nbconvert_exporter": "python",
   "pygments_lexer": "ipython3",
   "version": "3.9.2"
  }
 },
 "nbformat": 4,
 "nbformat_minor": 5
}
