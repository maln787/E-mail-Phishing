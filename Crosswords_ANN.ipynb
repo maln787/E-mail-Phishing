{
  "nbformat": 4,
  "nbformat_minor": 0,
  "metadata": {
    "colab": {
      "name": "Crosswords_ANN.ipynb",
      "provenance": [],
      "collapsed_sections": []
    },
    "kernelspec": {
      "name": "python3",
      "display_name": "Python 3"
    },
    "language_info": {
      "name": "python"
    }
  },
  "cells": [
    {
      "cell_type": "code",
      "execution_count": null,
      "metadata": {
        "id": "SRNpg_wvlpTq"
      },
      "outputs": [],
      "source": [
        "import pandas as pd\n",
        "import os\n",
        "import re\n",
        "import spacy\n",
        "from gensim.models.phrases import Phrases, Phraser\n",
        "from time import time \n",
        "import multiprocessing\n",
        "from gensim.models import Word2Vec\n",
        "import bokeh.plotting as bp\n",
        "from bokeh.models import HoverTool, BoxSelectTool\n",
        "from bokeh.plotting import figure, show, output_notebook\n",
        "from sklearn.manifold import TSNE\n",
        "from sklearn.model_selection import train_test_split\n",
        "import numpy as np\n",
        "from sklearn.preprocessing import scale\n",
        "import keras \n",
        "from keras.models import Sequential, Model \n",
        "from keras import layers\n",
        "from keras.layers import Dense, Conv1D, MaxPooling1D, Flatten, Dropout, Input, Embedding\n",
        "from keras.layers.merge import Concatenate\n",
        "from sklearn.feature_extraction.text import TfidfVectorizer\n",
        "from wordcloud import WordCloud\n",
        "from nltk.tokenize import RegexpTokenizer\n",
        "from sklearn.metrics import confusion_matrix"
      ]
    },
    {
      "cell_type": "code",
      "source": [
        "df = pd.read_csv('corpus.csv')"
      ],
      "metadata": {
        "id": "yd0rfNTol47o"
      },
      "execution_count": null,
      "outputs": []
    },
    {
      "cell_type": "code",
      "source": [
        "df = df.iloc[:, [1,2]]"
      ],
      "metadata": {
        "id": "XwBH-vOvmFk0"
      },
      "execution_count": null,
      "outputs": []
    },
    {
      "cell_type": "code",
      "source": [
        "df_clean = df\n",
        "from nltk.tokenize import RegexpTokenizer\n",
        "t = time()\n",
        "\n",
        "\n",
        "tokenizer = RegexpTokenizer(r'\\w+')\n",
        "df_clean['clean'] = df_clean['messages'].astype('str') \n",
        "df_clean.dtypes\n",
        "\n",
        "df_clean[\"tokens\"] = df_clean[\"clean\"].apply(tokenizer.tokenize)\n",
        "# delete Stop Words\n",
        "\n",
        "print('Time to tokenize everything: {} mins'.format(round((time() - t) / 60, 2)))\n",
        "df_clean.head()"
      ],
      "metadata": {
        "colab": {
          "base_uri": "https://localhost:8080/",
          "height": 320
        },
        "id": "vl03ZptkmGI6",
        "outputId": "32db86cd-d34b-4c0d-a985-1e90e2565ea6"
      },
      "execution_count": null,
      "outputs": [
        {
          "output_type": "stream",
          "name": "stdout",
          "text": [
            "Time to tokenize everything: 0.03 mins\n"
          ]
        },
        {
          "output_type": "execute_result",
          "data": {
            "text/html": [
              "\n",
              "  <div id=\"df-bd3418de-6d6e-432b-b320-1941f4f7be56\">\n",
              "    <div class=\"colab-df-container\">\n",
              "      <div>\n",
              "<style scoped>\n",
              "    .dataframe tbody tr th:only-of-type {\n",
              "        vertical-align: middle;\n",
              "    }\n",
              "\n",
              "    .dataframe tbody tr th {\n",
              "        vertical-align: top;\n",
              "    }\n",
              "\n",
              "    .dataframe thead th {\n",
              "        text-align: right;\n",
              "    }\n",
              "</style>\n",
              "<table border=\"1\" class=\"dataframe\">\n",
              "  <thead>\n",
              "    <tr style=\"text-align: right;\">\n",
              "      <th></th>\n",
              "      <th>messages</th>\n",
              "      <th>target</th>\n",
              "      <th>clean</th>\n",
              "      <th>tokens</th>\n",
              "    </tr>\n",
              "  </thead>\n",
              "  <tbody>\n",
              "    <tr>\n",
              "      <th>0</th>\n",
              "      <td>cam babe look look companion friendship love d...</td>\n",
              "      <td>1</td>\n",
              "      <td>cam babe look look companion friendship love d...</td>\n",
              "      <td>[cam, babe, look, look, companion, friendship,...</td>\n",
              "    </tr>\n",
              "    <tr>\n",
              "      <th>1</th>\n",
              "      <td>want make money order confirm order ship janua...</td>\n",
              "      <td>1</td>\n",
              "      <td>want make money order confirm order ship janua...</td>\n",
              "      <td>[want, make, money, order, confirm, order, shi...</td>\n",
              "    </tr>\n",
              "    <tr>\n",
              "      <th>2</th>\n",
              "      <td>food thought join take free tour click remov</td>\n",
              "      <td>1</td>\n",
              "      <td>food thought join take free tour click remov</td>\n",
              "      <td>[food, thought, join, take, free, tour, click,...</td>\n",
              "    </tr>\n",
              "    <tr>\n",
              "      <th>3</th>\n",
              "      <td>pharmaci ta would want cheap perscript http ww...</td>\n",
              "      <td>1</td>\n",
              "      <td>pharmaci ta would want cheap perscript http ww...</td>\n",
              "      <td>[pharmaci, ta, would, want, cheap, perscript, ...</td>\n",
              "    </tr>\n",
              "    <tr>\n",
              "      <th>4</th>\n",
              "      <td>bigger breast pill imag load cli k info ship s...</td>\n",
              "      <td>1</td>\n",
              "      <td>bigger breast pill imag load cli k info ship s...</td>\n",
              "      <td>[bigger, breast, pill, imag, load, cli, k, inf...</td>\n",
              "    </tr>\n",
              "  </tbody>\n",
              "</table>\n",
              "</div>\n",
              "      <button class=\"colab-df-convert\" onclick=\"convertToInteractive('df-bd3418de-6d6e-432b-b320-1941f4f7be56')\"\n",
              "              title=\"Convert this dataframe to an interactive table.\"\n",
              "              style=\"display:none;\">\n",
              "        \n",
              "  <svg xmlns=\"http://www.w3.org/2000/svg\" height=\"24px\"viewBox=\"0 0 24 24\"\n",
              "       width=\"24px\">\n",
              "    <path d=\"M0 0h24v24H0V0z\" fill=\"none\"/>\n",
              "    <path d=\"M18.56 5.44l.94 2.06.94-2.06 2.06-.94-2.06-.94-.94-2.06-.94 2.06-2.06.94zm-11 1L8.5 8.5l.94-2.06 2.06-.94-2.06-.94L8.5 2.5l-.94 2.06-2.06.94zm10 10l.94 2.06.94-2.06 2.06-.94-2.06-.94-.94-2.06-.94 2.06-2.06.94z\"/><path d=\"M17.41 7.96l-1.37-1.37c-.4-.4-.92-.59-1.43-.59-.52 0-1.04.2-1.43.59L10.3 9.45l-7.72 7.72c-.78.78-.78 2.05 0 2.83L4 21.41c.39.39.9.59 1.41.59.51 0 1.02-.2 1.41-.59l7.78-7.78 2.81-2.81c.8-.78.8-2.07 0-2.86zM5.41 20L4 18.59l7.72-7.72 1.47 1.35L5.41 20z\"/>\n",
              "  </svg>\n",
              "      </button>\n",
              "      \n",
              "  <style>\n",
              "    .colab-df-container {\n",
              "      display:flex;\n",
              "      flex-wrap:wrap;\n",
              "      gap: 12px;\n",
              "    }\n",
              "\n",
              "    .colab-df-convert {\n",
              "      background-color: #E8F0FE;\n",
              "      border: none;\n",
              "      border-radius: 50%;\n",
              "      cursor: pointer;\n",
              "      display: none;\n",
              "      fill: #1967D2;\n",
              "      height: 32px;\n",
              "      padding: 0 0 0 0;\n",
              "      width: 32px;\n",
              "    }\n",
              "\n",
              "    .colab-df-convert:hover {\n",
              "      background-color: #E2EBFA;\n",
              "      box-shadow: 0px 1px 2px rgba(60, 64, 67, 0.3), 0px 1px 3px 1px rgba(60, 64, 67, 0.15);\n",
              "      fill: #174EA6;\n",
              "    }\n",
              "\n",
              "    [theme=dark] .colab-df-convert {\n",
              "      background-color: #3B4455;\n",
              "      fill: #D2E3FC;\n",
              "    }\n",
              "\n",
              "    [theme=dark] .colab-df-convert:hover {\n",
              "      background-color: #434B5C;\n",
              "      box-shadow: 0px 1px 3px 1px rgba(0, 0, 0, 0.15);\n",
              "      filter: drop-shadow(0px 1px 2px rgba(0, 0, 0, 0.3));\n",
              "      fill: #FFFFFF;\n",
              "    }\n",
              "  </style>\n",
              "\n",
              "      <script>\n",
              "        const buttonEl =\n",
              "          document.querySelector('#df-bd3418de-6d6e-432b-b320-1941f4f7be56 button.colab-df-convert');\n",
              "        buttonEl.style.display =\n",
              "          google.colab.kernel.accessAllowed ? 'block' : 'none';\n",
              "\n",
              "        async function convertToInteractive(key) {\n",
              "          const element = document.querySelector('#df-bd3418de-6d6e-432b-b320-1941f4f7be56');\n",
              "          const dataTable =\n",
              "            await google.colab.kernel.invokeFunction('convertToInteractive',\n",
              "                                                     [key], {});\n",
              "          if (!dataTable) return;\n",
              "\n",
              "          const docLinkHtml = 'Like what you see? Visit the ' +\n",
              "            '<a target=\"_blank\" href=https://colab.research.google.com/notebooks/data_table.ipynb>data table notebook</a>'\n",
              "            + ' to learn more about interactive tables.';\n",
              "          element.innerHTML = '';\n",
              "          dataTable['output_type'] = 'display_data';\n",
              "          await google.colab.output.renderOutput(dataTable, element);\n",
              "          const docLink = document.createElement('div');\n",
              "          docLink.innerHTML = docLinkHtml;\n",
              "          element.appendChild(docLink);\n",
              "        }\n",
              "      </script>\n",
              "    </div>\n",
              "  </div>\n",
              "  "
            ],
            "text/plain": [
              "                                            messages  ...                                             tokens\n",
              "0  cam babe look look companion friendship love d...  ...  [cam, babe, look, look, companion, friendship,...\n",
              "1  want make money order confirm order ship janua...  ...  [want, make, money, order, confirm, order, shi...\n",
              "2       food thought join take free tour click remov  ...  [food, thought, join, take, free, tour, click,...\n",
              "3  pharmaci ta would want cheap perscript http ww...  ...  [pharmaci, ta, would, want, cheap, perscript, ...\n",
              "4  bigger breast pill imag load cli k info ship s...  ...  [bigger, breast, pill, imag, load, cli, k, inf...\n",
              "\n",
              "[5 rows x 4 columns]"
            ]
          },
          "metadata": {},
          "execution_count": 9
        }
      ]
    },
    {
      "cell_type": "code",
      "source": [
        "\n",
        "#WORD2VEC()\n",
        "cores = multiprocessing.cpu_count() # Count the number of cores in a computer, important for a parameter of the model\n",
        "w2v_model = Word2Vec(min_count=20,\n",
        "                     window=2,\n",
        "                     size=300,\n",
        "                     sample=6e-5, \n",
        "                     alpha=0.03, \n",
        "                     min_alpha=0.0007, \n",
        "                     negative=20,\n",
        "                     workers=cores-1)\n",
        "\n",
        "#BUILD_VOCAB()\n",
        "t = time()\n",
        "w2v_model.build_vocab(df_clean[\"tokens\"], progress_per=1000)\n",
        "print('Time to build vocab: {} mins'.format(round((time() - t) / 60, 2)))\n"
      ],
      "metadata": {
        "colab": {
          "base_uri": "https://localhost:8080/"
        },
        "id": "TwpigfuRmmNv",
        "outputId": "5d7e2e44-35c6-48bd-e067-f7b9f4601aad"
      },
      "execution_count": null,
      "outputs": [
        {
          "output_type": "stream",
          "name": "stdout",
          "text": [
            "Time to build vocab: 0.08 mins\n"
          ]
        }
      ]
    },
    {
      "cell_type": "code",
      "source": [
        "y = df['target'].values\n",
        "X = np.array(df_clean[\"tokens\"])\n",
        "\n",
        "#And here is the train_test_split\n",
        "X_train, X_test, y_train, y_test = train_test_split(X, y, test_size = 0.2, random_state = 0)"
      ],
      "metadata": {
        "id": "nr4Q_yVQoHoF"
      },
      "execution_count": null,
      "outputs": []
    },
    {
      "cell_type": "code",
      "source": [
        "vectorizer = TfidfVectorizer(analyzer=lambda x: x, min_df=10)\n",
        "matrix = vectorizer.fit_transform([x for x in X_train])\n",
        "tfidf = dict(zip(vectorizer.get_feature_names(), vectorizer.idf_))\n",
        "print ('vocab size :', len(tfidf))"
      ],
      "metadata": {
        "colab": {
          "base_uri": "https://localhost:8080/"
        },
        "id": "oB6jMCb0oXjm",
        "outputId": "88ddbdce-443e-4515-df79-36fbe2091535"
      },
      "execution_count": null,
      "outputs": [
        {
          "output_type": "stream",
          "name": "stdout",
          "text": [
            "vocab size : 18891\n"
          ]
        },
        {
          "output_type": "stream",
          "name": "stderr",
          "text": [
            "/usr/local/lib/python3.7/dist-packages/sklearn/utils/deprecation.py:87: FutureWarning: Function get_feature_names is deprecated; get_feature_names is deprecated in 1.0 and will be removed in 1.2. Please use get_feature_names_out instead.\n",
            "  warnings.warn(msg, category=FutureWarning)\n"
          ]
        }
      ]
    },
    {
      "cell_type": "code",
      "source": [
        "def buildWordVector(tokens, size):\n",
        "    vec = np.zeros(size).reshape((1, size))\n",
        "    count = 0.\n",
        "    for word in tokens:\n",
        "        try:\n",
        "            vec += w2v_model[word].reshape((1, size)) * tfidf[word]\n",
        "            count += 1.\n",
        "        except KeyError: # handling the case where the token is not\n",
        "                         # in the corpus. useful for testing.\n",
        "            continue\n",
        "    if count != 0:\n",
        "        vec /= count\n",
        "    return vec"
      ],
      "metadata": {
        "id": "pCpIjef4ongP"
      },
      "execution_count": null,
      "outputs": []
    },
    {
      "cell_type": "code",
      "source": [
        "train_vecs_w2v = np.concatenate([buildWordVector(z, 300) for z in map(lambda x: x, X_train)])\n",
        "train_vecs_w2v = scale(train_vecs_w2v)\n",
        "\n",
        "test_vecs_w2v = np.concatenate([buildWordVector(z, 300) for z in map(lambda x: x, X_test)])\n",
        "test_vecs_w2v = scale(test_vecs_w2v)\n",
        "\n",
        "print ('shape for training set : ',train_vecs_w2v.shape,\n",
        "      '\\nshape for test set : ', test_vecs_w2v.shape)"
      ],
      "metadata": {
        "colab": {
          "base_uri": "https://localhost:8080/"
        },
        "id": "Esj8B-jjo5i3",
        "outputId": "16cad3b3-cf4d-432e-a71b-092e8f739d19"
      },
      "execution_count": null,
      "outputs": [
        {
          "output_type": "stream",
          "name": "stderr",
          "text": [
            "/usr/local/lib/python3.7/dist-packages/ipykernel_launcher.py:6: DeprecationWarning: Call to deprecated `__getitem__` (Method will be removed in 4.0.0, use self.wv.__getitem__() instead).\n",
            "  \n",
            "/usr/local/lib/python3.7/dist-packages/ipykernel_launcher.py:6: DeprecationWarning: Call to deprecated `__getitem__` (Method will be removed in 4.0.0, use self.wv.__getitem__() instead).\n",
            "  \n"
          ]
        },
        {
          "output_type": "stream",
          "name": "stdout",
          "text": [
            "shape for training set :  (41236, 300) \n",
            "shape for test set :  (10310, 300)\n"
          ]
        }
      ]
    },
    {
      "cell_type": "markdown",
      "source": [
        "ANN"
      ],
      "metadata": {
        "id": "f_j6QkJ404AF"
      }
    },
    {
      "cell_type": "code",
      "source": [
        "model = Sequential()\n",
        "\n",
        "model.add(Dense(128, activation='leaky_relu', input_dim=300))\n",
        "model.add(Dense(64, activation='leaky_relu'))\n",
        "model.add(Dense(32, activation='leaky_relu'))\n",
        "model.add(Dropout(0.6))\n",
        "model.add(Dense(1, activation='sigmoid'))\n",
        "model.compile(optimizer='adadelta',\n",
        "              loss='binary_crossentropy',\n",
        "              metrics=['accuracy'])\n",
        "model.summary()"
      ],
      "metadata": {
        "colab": {
          "base_uri": "https://localhost:8080/"
        },
        "id": "y3sh_rbu0zud",
        "outputId": "e037571d-8155-4a1b-96b6-3bfd241b336a"
      },
      "execution_count": null,
      "outputs": [
        {
          "output_type": "stream",
          "name": "stdout",
          "text": [
            "Model: \"sequential\"\n",
            "_________________________________________________________________\n",
            " Layer (type)                Output Shape              Param #   \n",
            "=================================================================\n",
            " dense (Dense)               (None, 128)               38528     \n",
            "                                                                 \n",
            " dense_1 (Dense)             (None, 64)                8256      \n",
            "                                                                 \n",
            " dense_2 (Dense)             (None, 32)                2080      \n",
            "                                                                 \n",
            " dropout (Dropout)           (None, 32)                0         \n",
            "                                                                 \n",
            " dense_3 (Dense)             (None, 1)                 33        \n",
            "                                                                 \n",
            "=================================================================\n",
            "Total params: 48,897\n",
            "Trainable params: 48,897\n",
            "Non-trainable params: 0\n",
            "_________________________________________________________________\n"
          ]
        }
      ]
    },
    {
      "cell_type": "code",
      "source": [
        "model.fit(train_vecs_w2v, y_train, epochs=50, batch_size=50,\n",
        "                   validation_data=(test_vecs_w2v,y_test))\n",
        "loss, accuracy = model.evaluate(train_vecs_w2v, y_train, verbose=False)\n",
        "print(\"Training Accuracy: {:.4f}\".format(accuracy))\n",
        "loss, accuracy = model.evaluate(test_vecs_w2v, y_test, verbose=False)\n",
        "print(\"Testing Accuracy:  {:.4f}\".format(accuracy))"
      ],
      "metadata": {
        "colab": {
          "base_uri": "https://localhost:8080/"
        },
        "id": "Q6T3u_DL08O3",
        "outputId": "e7a081c5-b279-43d6-c28b-78cce65c553e"
      },
      "execution_count": null,
      "outputs": [
        {
          "output_type": "stream",
          "name": "stdout",
          "text": [
            "Epoch 1/50\n",
            "825/825 [==============================] - 3s 3ms/step - loss: 0.8286 - accuracy: 0.5294 - val_loss: 0.7159 - val_accuracy: 0.5540\n",
            "Epoch 2/50\n",
            "825/825 [==============================] - 2s 3ms/step - loss: 0.7990 - accuracy: 0.5457 - val_loss: 0.6941 - val_accuracy: 0.5778\n",
            "Epoch 3/50\n",
            "825/825 [==============================] - 2s 3ms/step - loss: 0.7774 - accuracy: 0.5578 - val_loss: 0.6766 - val_accuracy: 0.5976\n",
            "Epoch 4/50\n",
            "825/825 [==============================] - 2s 3ms/step - loss: 0.7612 - accuracy: 0.5707 - val_loss: 0.6627 - val_accuracy: 0.6113\n",
            "Epoch 5/50\n",
            "825/825 [==============================] - 2s 3ms/step - loss: 0.7457 - accuracy: 0.5803 - val_loss: 0.6517 - val_accuracy: 0.6236\n",
            "Epoch 6/50\n",
            "825/825 [==============================] - 2s 3ms/step - loss: 0.7305 - accuracy: 0.5914 - val_loss: 0.6426 - val_accuracy: 0.6371\n",
            "Epoch 7/50\n",
            "825/825 [==============================] - 2s 3ms/step - loss: 0.7238 - accuracy: 0.6022 - val_loss: 0.6352 - val_accuracy: 0.6448\n",
            "Epoch 8/50\n",
            "825/825 [==============================] - 2s 3ms/step - loss: 0.7093 - accuracy: 0.6087 - val_loss: 0.6290 - val_accuracy: 0.6518\n",
            "Epoch 9/50\n",
            "825/825 [==============================] - 2s 3ms/step - loss: 0.7066 - accuracy: 0.6119 - val_loss: 0.6237 - val_accuracy: 0.6591\n",
            "Epoch 10/50\n",
            "825/825 [==============================] - 2s 3ms/step - loss: 0.6974 - accuracy: 0.6227 - val_loss: 0.6190 - val_accuracy: 0.6644\n",
            "Epoch 11/50\n",
            "825/825 [==============================] - 2s 3ms/step - loss: 0.6905 - accuracy: 0.6301 - val_loss: 0.6148 - val_accuracy: 0.6688\n",
            "Epoch 12/50\n",
            "825/825 [==============================] - 2s 3ms/step - loss: 0.6831 - accuracy: 0.6313 - val_loss: 0.6110 - val_accuracy: 0.6713\n",
            "Epoch 13/50\n",
            "825/825 [==============================] - 2s 3ms/step - loss: 0.6779 - accuracy: 0.6380 - val_loss: 0.6075 - val_accuracy: 0.6742\n",
            "Epoch 14/50\n",
            "825/825 [==============================] - 2s 3ms/step - loss: 0.6783 - accuracy: 0.6380 - val_loss: 0.6043 - val_accuracy: 0.6754\n",
            "Epoch 15/50\n",
            "825/825 [==============================] - 2s 3ms/step - loss: 0.6710 - accuracy: 0.6424 - val_loss: 0.6012 - val_accuracy: 0.6768\n",
            "Epoch 16/50\n",
            "825/825 [==============================] - 2s 3ms/step - loss: 0.6609 - accuracy: 0.6504 - val_loss: 0.5982 - val_accuracy: 0.6790\n",
            "Epoch 17/50\n",
            "825/825 [==============================] - 2s 3ms/step - loss: 0.6583 - accuracy: 0.6524 - val_loss: 0.5954 - val_accuracy: 0.6814\n",
            "Epoch 18/50\n",
            "825/825 [==============================] - 2s 3ms/step - loss: 0.6561 - accuracy: 0.6559 - val_loss: 0.5928 - val_accuracy: 0.6825\n",
            "Epoch 19/50\n",
            "825/825 [==============================] - 2s 3ms/step - loss: 0.6544 - accuracy: 0.6547 - val_loss: 0.5902 - val_accuracy: 0.6849\n",
            "Epoch 20/50\n",
            "825/825 [==============================] - 2s 3ms/step - loss: 0.6494 - accuracy: 0.6583 - val_loss: 0.5877 - val_accuracy: 0.6866\n",
            "Epoch 21/50\n",
            "825/825 [==============================] - 2s 3ms/step - loss: 0.6471 - accuracy: 0.6623 - val_loss: 0.5853 - val_accuracy: 0.6878\n",
            "Epoch 22/50\n",
            "825/825 [==============================] - 2s 3ms/step - loss: 0.6396 - accuracy: 0.6659 - val_loss: 0.5829 - val_accuracy: 0.6892\n",
            "Epoch 23/50\n",
            "825/825 [==============================] - 2s 3ms/step - loss: 0.6343 - accuracy: 0.6674 - val_loss: 0.5807 - val_accuracy: 0.6910\n",
            "Epoch 24/50\n",
            "825/825 [==============================] - 2s 3ms/step - loss: 0.6384 - accuracy: 0.6663 - val_loss: 0.5785 - val_accuracy: 0.6922\n",
            "Epoch 25/50\n",
            "825/825 [==============================] - 2s 3ms/step - loss: 0.6316 - accuracy: 0.6716 - val_loss: 0.5764 - val_accuracy: 0.6944\n",
            "Epoch 26/50\n",
            "825/825 [==============================] - 2s 3ms/step - loss: 0.6265 - accuracy: 0.6731 - val_loss: 0.5743 - val_accuracy: 0.6957\n",
            "Epoch 27/50\n",
            "825/825 [==============================] - 2s 3ms/step - loss: 0.6244 - accuracy: 0.6756 - val_loss: 0.5723 - val_accuracy: 0.6972\n",
            "Epoch 28/50\n",
            "825/825 [==============================] - 2s 3ms/step - loss: 0.6209 - accuracy: 0.6768 - val_loss: 0.5703 - val_accuracy: 0.6983\n",
            "Epoch 29/50\n",
            "825/825 [==============================] - 2s 3ms/step - loss: 0.6173 - accuracy: 0.6819 - val_loss: 0.5684 - val_accuracy: 0.6991\n",
            "Epoch 30/50\n",
            "825/825 [==============================] - 2s 3ms/step - loss: 0.6173 - accuracy: 0.6803 - val_loss: 0.5665 - val_accuracy: 0.7001\n",
            "Epoch 31/50\n",
            "825/825 [==============================] - 2s 3ms/step - loss: 0.6131 - accuracy: 0.6839 - val_loss: 0.5646 - val_accuracy: 0.7009\n",
            "Epoch 32/50\n",
            "825/825 [==============================] - 3s 3ms/step - loss: 0.6121 - accuracy: 0.6848 - val_loss: 0.5628 - val_accuracy: 0.7022\n",
            "Epoch 33/50\n",
            "825/825 [==============================] - 2s 3ms/step - loss: 0.6069 - accuracy: 0.6887 - val_loss: 0.5610 - val_accuracy: 0.7037\n",
            "Epoch 34/50\n",
            "825/825 [==============================] - 3s 3ms/step - loss: 0.6076 - accuracy: 0.6865 - val_loss: 0.5593 - val_accuracy: 0.7041\n",
            "Epoch 35/50\n",
            "825/825 [==============================] - 2s 3ms/step - loss: 0.6049 - accuracy: 0.6906 - val_loss: 0.5576 - val_accuracy: 0.7048\n",
            "Epoch 36/50\n",
            "825/825 [==============================] - 2s 3ms/step - loss: 0.6014 - accuracy: 0.6888 - val_loss: 0.5560 - val_accuracy: 0.7061\n",
            "Epoch 37/50\n",
            "825/825 [==============================] - 2s 3ms/step - loss: 0.5978 - accuracy: 0.6954 - val_loss: 0.5543 - val_accuracy: 0.7075\n",
            "Epoch 38/50\n",
            "825/825 [==============================] - 2s 3ms/step - loss: 0.5957 - accuracy: 0.6940 - val_loss: 0.5527 - val_accuracy: 0.7089\n",
            "Epoch 39/50\n",
            "825/825 [==============================] - 2s 3ms/step - loss: 0.5978 - accuracy: 0.6949 - val_loss: 0.5511 - val_accuracy: 0.7106\n",
            "Epoch 40/50\n",
            "825/825 [==============================] - 2s 3ms/step - loss: 0.5967 - accuracy: 0.6949 - val_loss: 0.5496 - val_accuracy: 0.7113\n",
            "Epoch 41/50\n",
            "825/825 [==============================] - 2s 3ms/step - loss: 0.5941 - accuracy: 0.6955 - val_loss: 0.5481 - val_accuracy: 0.7117\n",
            "Epoch 42/50\n",
            "825/825 [==============================] - 2s 3ms/step - loss: 0.5883 - accuracy: 0.6956 - val_loss: 0.5465 - val_accuracy: 0.7127\n",
            "Epoch 43/50\n",
            "825/825 [==============================] - 2s 3ms/step - loss: 0.5880 - accuracy: 0.7016 - val_loss: 0.5451 - val_accuracy: 0.7144\n",
            "Epoch 44/50\n",
            "825/825 [==============================] - 2s 3ms/step - loss: 0.5880 - accuracy: 0.6989 - val_loss: 0.5437 - val_accuracy: 0.7149\n",
            "Epoch 45/50\n",
            "825/825 [==============================] - 2s 3ms/step - loss: 0.5839 - accuracy: 0.7040 - val_loss: 0.5423 - val_accuracy: 0.7162\n",
            "Epoch 46/50\n",
            "825/825 [==============================] - 2s 3ms/step - loss: 0.5863 - accuracy: 0.7026 - val_loss: 0.5409 - val_accuracy: 0.7173\n",
            "Epoch 47/50\n",
            "825/825 [==============================] - 2s 3ms/step - loss: 0.5809 - accuracy: 0.7040 - val_loss: 0.5395 - val_accuracy: 0.7179\n",
            "Epoch 48/50\n",
            "825/825 [==============================] - 2s 3ms/step - loss: 0.5789 - accuracy: 0.7056 - val_loss: 0.5382 - val_accuracy: 0.7190\n",
            "Epoch 49/50\n",
            "825/825 [==============================] - 2s 3ms/step - loss: 0.5778 - accuracy: 0.7075 - val_loss: 0.5369 - val_accuracy: 0.7190\n",
            "Epoch 50/50\n",
            "825/825 [==============================] - 2s 3ms/step - loss: 0.5761 - accuracy: 0.7070 - val_loss: 0.5355 - val_accuracy: 0.7194\n",
            "Training Accuracy: 0.7217\n",
            "Testing Accuracy:  0.7194\n"
          ]
        }
      ]
    },
    {
      "cell_type": "code",
      "source": [
        ""
      ],
      "metadata": {
        "id": "gBHgwECCNAwr"
      },
      "execution_count": null,
      "outputs": []
    },
    {
      "cell_type": "markdown",
      "source": [
        "# TEST"
      ],
      "metadata": {
        "id": "psA_Prdyw9_-"
      }
    },
    {
      "cell_type": "code",
      "source": [
        "test = pd.read_csv('test.csv')"
      ],
      "metadata": {
        "id": "o0LVSH5Kn_Kb"
      },
      "execution_count": 45,
      "outputs": []
    },
    {
      "cell_type": "code",
      "source": [
        "id = test['Id']"
      ],
      "metadata": {
        "id": "a9Ie3Qvjqa5T"
      },
      "execution_count": 46,
      "outputs": []
    },
    {
      "cell_type": "code",
      "source": [
        "test = test[['Subject','Body']]"
      ],
      "metadata": {
        "id": "ahsSaGu6pKmE"
      },
      "execution_count": 47,
      "outputs": []
    },
    {
      "cell_type": "code",
      "source": [
        "test['messages'] = test['Subject']+' '+test['Body']"
      ],
      "metadata": {
        "id": "1pSB-7a4pK_f"
      },
      "execution_count": 48,
      "outputs": []
    },
    {
      "cell_type": "code",
      "source": [
        "import re\n",
        "import nltk\n",
        "import ssl\n",
        "##ssl error aaya toh\n",
        "try:\n",
        "    _create_unverified_https_context = ssl._create_unverified_context\n",
        "except AttributeError:\n",
        "    pass\n",
        "else:\n",
        "    ssl._create_default_https_context = _create_unverified_https_context\n",
        "\n",
        "nltk.download('stopwords')"
      ],
      "metadata": {
        "colab": {
          "base_uri": "https://localhost:8080/"
        },
        "id": "Vkf9fBO6pZSV",
        "outputId": "8c38d7fc-23b7-418b-afb6-4d13b02bb80f"
      },
      "execution_count": 49,
      "outputs": [
        {
          "output_type": "stream",
          "name": "stdout",
          "text": [
            "[nltk_data] Downloading package stopwords to /root/nltk_data...\n",
            "[nltk_data]   Unzipping corpora/stopwords.zip.\n"
          ]
        },
        {
          "output_type": "execute_result",
          "data": {
            "text/plain": [
              "True"
            ]
          },
          "metadata": {},
          "execution_count": 49
        }
      ]
    },
    {
      "cell_type": "code",
      "source": [
        "from nltk.corpus import stopwords\n",
        "from nltk.stem.porter import PorterStemmer"
      ],
      "metadata": {
        "id": "teFe3uUCrPr_"
      },
      "execution_count": 50,
      "outputs": []
    },
    {
      "cell_type": "code",
      "source": [
        "ps = PorterStemmer()\n",
        "test_corpus = []"
      ],
      "metadata": {
        "id": "_60INddArS6Q"
      },
      "execution_count": 51,
      "outputs": []
    },
    {
      "cell_type": "code",
      "source": [
        "for i in range(len(test)):\n",
        "    review = re.sub('[^a-zA-Z]',' ',str(test['messages'][i]))\n",
        "    review = review.lower().split()\n",
        "    review = [ps.stem(word) for word in review if not word in stopwords.words('english')]\n",
        "    review = ' '.join(review)\n",
        "    test_corpus.append(review)"
      ],
      "metadata": {
        "id": "hnkmKjxBrTO8"
      },
      "execution_count": 52,
      "outputs": []
    },
    {
      "cell_type": "code",
      "source": [
        ""
      ],
      "metadata": {
        "id": "zexyPMlXNedz"
      },
      "execution_count": null,
      "outputs": []
    },
    {
      "cell_type": "markdown",
      "source": [
        "## Creation of submission,csv from here"
      ],
      "metadata": {
        "id": "y7bLBAwr5UAs"
      }
    },
    {
      "cell_type": "code",
      "source": [
        "f_test = pd.DataFrame()"
      ],
      "metadata": {
        "id": "un6Apc4DnRBF"
      },
      "execution_count": 55,
      "outputs": []
    },
    {
      "cell_type": "code",
      "source": [
        "f_test['Body'] = test_corpus"
      ],
      "metadata": {
        "id": "bsvy07ZYOwnc"
      },
      "execution_count": 56,
      "outputs": []
    },
    {
      "cell_type": "code",
      "source": [
        "df_clean_f = f_test\n",
        "from nltk.tokenize import RegexpTokenizer\n",
        "t = time()\n",
        "\n",
        "\n",
        "tokenizer = RegexpTokenizer(r'\\w+')\n",
        "df_clean_f['clean'] = df_clean_f['Body'].astype('str') \n",
        "df_clean_f.dtypes\n",
        "\n",
        "df_clean_f[\"tokens\"] = df_clean_f[\"clean\"].apply(tokenizer.tokenize)\n",
        "# delete Stop Words\n",
        "\n",
        "print('Time to tokenize everything: {} mins'.format(round((time() - t) / 60, 2)))\n",
        "df_clean_f.head()"
      ],
      "metadata": {
        "colab": {
          "base_uri": "https://localhost:8080/",
          "height": 268
        },
        "id": "jlo_BGgxgtln",
        "outputId": "68f91e53-275c-42cd-ab6f-a0cbb8377d6c"
      },
      "execution_count": 57,
      "outputs": [
        {
          "output_type": "stream",
          "name": "stdout",
          "text": [
            "Time to tokenize everything: 0.01 mins\n"
          ]
        },
        {
          "output_type": "execute_result",
          "data": {
            "text/html": [
              "\n",
              "  <div id=\"df-8623b904-362a-45dc-99bc-49e06e8e570b\">\n",
              "    <div class=\"colab-df-container\">\n",
              "      <div>\n",
              "<style scoped>\n",
              "    .dataframe tbody tr th:only-of-type {\n",
              "        vertical-align: middle;\n",
              "    }\n",
              "\n",
              "    .dataframe tbody tr th {\n",
              "        vertical-align: top;\n",
              "    }\n",
              "\n",
              "    .dataframe thead th {\n",
              "        text-align: right;\n",
              "    }\n",
              "</style>\n",
              "<table border=\"1\" class=\"dataframe\">\n",
              "  <thead>\n",
              "    <tr style=\"text-align: right;\">\n",
              "      <th></th>\n",
              "      <th>Body</th>\n",
              "      <th>clean</th>\n",
              "      <th>tokens</th>\n",
              "    </tr>\n",
              "  </thead>\n",
              "  <tbody>\n",
              "    <tr>\n",
              "      <th>0</th>\n",
              "      <td>ext decemb meet request thank sent hold time c...</td>\n",
              "      <td>ext decemb meet request thank sent hold time c...</td>\n",
              "      <td>[ext, decemb, meet, request, thank, sent, hold...</td>\n",
              "    </tr>\n",
              "    <tr>\n",
              "      <th>1</th>\n",
              "      <td>ccac sale ee joint technolog vision session da...</td>\n",
              "      <td>ccac sale ee joint technolog vision session da...</td>\n",
              "      <td>[ccac, sale, ee, joint, technolog, vision, ses...</td>\n",
              "    </tr>\n",
              "    <tr>\n",
              "      <th>2</th>\n",
              "      <td>cancel uudex discuss microsoft team meet join ...</td>\n",
              "      <td>cancel uudex discuss microsoft team meet join ...</td>\n",
              "      <td>[cancel, uudex, discuss, microsoft, team, meet...</td>\n",
              "    </tr>\n",
              "    <tr>\n",
              "      <th>3</th>\n",
              "      <td>check hannah microsoft team meet join comput m...</td>\n",
              "      <td>check hannah microsoft team meet join comput m...</td>\n",
              "      <td>[check, hannah, microsoft, team, meet, join, c...</td>\n",
              "    </tr>\n",
              "    <tr>\n",
              "      <th>4</th>\n",
              "      <td>hold ccac sale convers cybersecur one confirm ...</td>\n",
              "      <td>hold ccac sale convers cybersecur one confirm ...</td>\n",
              "      <td>[hold, ccac, sale, convers, cybersecur, one, c...</td>\n",
              "    </tr>\n",
              "  </tbody>\n",
              "</table>\n",
              "</div>\n",
              "      <button class=\"colab-df-convert\" onclick=\"convertToInteractive('df-8623b904-362a-45dc-99bc-49e06e8e570b')\"\n",
              "              title=\"Convert this dataframe to an interactive table.\"\n",
              "              style=\"display:none;\">\n",
              "        \n",
              "  <svg xmlns=\"http://www.w3.org/2000/svg\" height=\"24px\"viewBox=\"0 0 24 24\"\n",
              "       width=\"24px\">\n",
              "    <path d=\"M0 0h24v24H0V0z\" fill=\"none\"/>\n",
              "    <path d=\"M18.56 5.44l.94 2.06.94-2.06 2.06-.94-2.06-.94-.94-2.06-.94 2.06-2.06.94zm-11 1L8.5 8.5l.94-2.06 2.06-.94-2.06-.94L8.5 2.5l-.94 2.06-2.06.94zm10 10l.94 2.06.94-2.06 2.06-.94-2.06-.94-.94-2.06-.94 2.06-2.06.94z\"/><path d=\"M17.41 7.96l-1.37-1.37c-.4-.4-.92-.59-1.43-.59-.52 0-1.04.2-1.43.59L10.3 9.45l-7.72 7.72c-.78.78-.78 2.05 0 2.83L4 21.41c.39.39.9.59 1.41.59.51 0 1.02-.2 1.41-.59l7.78-7.78 2.81-2.81c.8-.78.8-2.07 0-2.86zM5.41 20L4 18.59l7.72-7.72 1.47 1.35L5.41 20z\"/>\n",
              "  </svg>\n",
              "      </button>\n",
              "      \n",
              "  <style>\n",
              "    .colab-df-container {\n",
              "      display:flex;\n",
              "      flex-wrap:wrap;\n",
              "      gap: 12px;\n",
              "    }\n",
              "\n",
              "    .colab-df-convert {\n",
              "      background-color: #E8F0FE;\n",
              "      border: none;\n",
              "      border-radius: 50%;\n",
              "      cursor: pointer;\n",
              "      display: none;\n",
              "      fill: #1967D2;\n",
              "      height: 32px;\n",
              "      padding: 0 0 0 0;\n",
              "      width: 32px;\n",
              "    }\n",
              "\n",
              "    .colab-df-convert:hover {\n",
              "      background-color: #E2EBFA;\n",
              "      box-shadow: 0px 1px 2px rgba(60, 64, 67, 0.3), 0px 1px 3px 1px rgba(60, 64, 67, 0.15);\n",
              "      fill: #174EA6;\n",
              "    }\n",
              "\n",
              "    [theme=dark] .colab-df-convert {\n",
              "      background-color: #3B4455;\n",
              "      fill: #D2E3FC;\n",
              "    }\n",
              "\n",
              "    [theme=dark] .colab-df-convert:hover {\n",
              "      background-color: #434B5C;\n",
              "      box-shadow: 0px 1px 3px 1px rgba(0, 0, 0, 0.15);\n",
              "      filter: drop-shadow(0px 1px 2px rgba(0, 0, 0, 0.3));\n",
              "      fill: #FFFFFF;\n",
              "    }\n",
              "  </style>\n",
              "\n",
              "      <script>\n",
              "        const buttonEl =\n",
              "          document.querySelector('#df-8623b904-362a-45dc-99bc-49e06e8e570b button.colab-df-convert');\n",
              "        buttonEl.style.display =\n",
              "          google.colab.kernel.accessAllowed ? 'block' : 'none';\n",
              "\n",
              "        async function convertToInteractive(key) {\n",
              "          const element = document.querySelector('#df-8623b904-362a-45dc-99bc-49e06e8e570b');\n",
              "          const dataTable =\n",
              "            await google.colab.kernel.invokeFunction('convertToInteractive',\n",
              "                                                     [key], {});\n",
              "          if (!dataTable) return;\n",
              "\n",
              "          const docLinkHtml = 'Like what you see? Visit the ' +\n",
              "            '<a target=\"_blank\" href=https://colab.research.google.com/notebooks/data_table.ipynb>data table notebook</a>'\n",
              "            + ' to learn more about interactive tables.';\n",
              "          element.innerHTML = '';\n",
              "          dataTable['output_type'] = 'display_data';\n",
              "          await google.colab.output.renderOutput(dataTable, element);\n",
              "          const docLink = document.createElement('div');\n",
              "          docLink.innerHTML = docLinkHtml;\n",
              "          element.appendChild(docLink);\n",
              "        }\n",
              "      </script>\n",
              "    </div>\n",
              "  </div>\n",
              "  "
            ],
            "text/plain": [
              "                                                Body  ...                                             tokens\n",
              "0  ext decemb meet request thank sent hold time c...  ...  [ext, decemb, meet, request, thank, sent, hold...\n",
              "1  ccac sale ee joint technolog vision session da...  ...  [ccac, sale, ee, joint, technolog, vision, ses...\n",
              "2  cancel uudex discuss microsoft team meet join ...  ...  [cancel, uudex, discuss, microsoft, team, meet...\n",
              "3  check hannah microsoft team meet join comput m...  ...  [check, hannah, microsoft, team, meet, join, c...\n",
              "4  hold ccac sale convers cybersecur one confirm ...  ...  [hold, ccac, sale, convers, cybersecur, one, c...\n",
              "\n",
              "[5 rows x 3 columns]"
            ]
          },
          "metadata": {},
          "execution_count": 57
        }
      ]
    },
    {
      "cell_type": "code",
      "source": [
        "#WORD2VEC()\n",
        "cores = multiprocessing.cpu_count() # Count the number of cores in a computer, important for a parameter of the model\n",
        "w2v_model = Word2Vec(min_count=20,\n",
        "                     window=2,\n",
        "                     size=300,\n",
        "                     sample=6e-5, \n",
        "                     alpha=0.03, \n",
        "                     min_alpha=0.0007, \n",
        "                     negative=20,\n",
        "                     workers=cores-1)\n",
        "\n",
        "#BUILD_VOCAB()\n",
        "t = time()\n",
        "w2v_model.build_vocab(df_clean_f[\"tokens\"], progress_per=1000)\n",
        "print('Time to build vocab: {} mins'.format(round((time() - t) / 60, 2)))\n"
      ],
      "metadata": {
        "colab": {
          "base_uri": "https://localhost:8080/"
        },
        "id": "uBzpejMSgtwS",
        "outputId": "0253fc64-373f-4516-d45a-b39b37e8f733"
      },
      "execution_count": 58,
      "outputs": [
        {
          "output_type": "stream",
          "name": "stdout",
          "text": [
            "Time to build vocab: 0.02 mins\n"
          ]
        }
      ]
    },
    {
      "cell_type": "code",
      "source": [
        "df_clean_f.columns"
      ],
      "metadata": {
        "colab": {
          "base_uri": "https://localhost:8080/"
        },
        "id": "zvYo-GHKk1mD",
        "outputId": "76361956-2f51-447d-dc4b-2f73324e74ed"
      },
      "execution_count": 59,
      "outputs": [
        {
          "output_type": "execute_result",
          "data": {
            "text/plain": [
              "Index(['Body', 'clean', 'tokens'], dtype='object')"
            ]
          },
          "metadata": {},
          "execution_count": 59
        }
      ]
    },
    {
      "cell_type": "code",
      "source": [
        "X_f = np.array(df_clean_f[\"tokens\"])"
      ],
      "metadata": {
        "id": "TBhmwvoEnwuf"
      },
      "execution_count": 60,
      "outputs": []
    },
    {
      "cell_type": "code",
      "source": [
        "vectorizer = TfidfVectorizer(analyzer=lambda x: x, min_df=10)\n",
        "matrix = vectorizer.fit_transform([x for x in X_f])\n",
        "tfidf = dict(zip(vectorizer.get_feature_names(), vectorizer.idf_))\n",
        "print ('vocab size :', len(tfidf))"
      ],
      "metadata": {
        "colab": {
          "base_uri": "https://localhost:8080/"
        },
        "id": "BBSQhpbvgt5X",
        "outputId": "e9f47a3b-f785-40c4-a098-34df9a80f1d3"
      },
      "execution_count": 61,
      "outputs": [
        {
          "output_type": "stream",
          "name": "stdout",
          "text": [
            "vocab size : 4843\n"
          ]
        },
        {
          "output_type": "stream",
          "name": "stderr",
          "text": [
            "/usr/local/lib/python3.7/dist-packages/sklearn/utils/deprecation.py:87: FutureWarning: Function get_feature_names is deprecated; get_feature_names is deprecated in 1.0 and will be removed in 1.2. Please use get_feature_names_out instead.\n",
            "  warnings.warn(msg, category=FutureWarning)\n"
          ]
        }
      ]
    },
    {
      "cell_type": "code",
      "source": [
        "train_vecs_w2v_f = np.concatenate([buildWordVector(z, 300) for z in map(lambda x: x, X_f)])\n",
        "train_vecs_w2v_f = scale(train_vecs_w2v_f)\n",
        "\n",
        "print ('shape for training set : ',train_vecs_w2v_f.shape)"
      ],
      "metadata": {
        "colab": {
          "base_uri": "https://localhost:8080/"
        },
        "id": "tsi_2upbhReM",
        "outputId": "be86c961-2bea-4322-d57a-6ea9bbe1f4a6"
      },
      "execution_count": 62,
      "outputs": [
        {
          "output_type": "stream",
          "name": "stderr",
          "text": [
            "/usr/local/lib/python3.7/dist-packages/ipykernel_launcher.py:6: DeprecationWarning: Call to deprecated `__getitem__` (Method will be removed in 4.0.0, use self.wv.__getitem__() instead).\n",
            "  \n"
          ]
        },
        {
          "output_type": "stream",
          "name": "stdout",
          "text": [
            "shape for training set :  (4898, 300)\n"
          ]
        }
      ]
    },
    {
      "cell_type": "code",
      "source": [
        "test_prob = model.predict(train_vecs_w2v_f)"
      ],
      "metadata": {
        "id": "WuVTnHEnhRt3"
      },
      "execution_count": 63,
      "outputs": []
    },
    {
      "cell_type": "code",
      "source": [
        "test_prob = test_prob.flatten()"
      ],
      "metadata": {
        "id": "b0n_NGQzPeyf"
      },
      "execution_count": 65,
      "outputs": []
    },
    {
      "cell_type": "code",
      "source": [
        "submission = pd.DataFrame()"
      ],
      "metadata": {
        "id": "vgLcj2FChR2r"
      },
      "execution_count": 66,
      "outputs": []
    },
    {
      "cell_type": "code",
      "source": [
        "submission['Id'] = id"
      ],
      "metadata": {
        "id": "AXb_CgJjhSAO"
      },
      "execution_count": 67,
      "outputs": []
    },
    {
      "cell_type": "code",
      "source": [
        "submission['Flag'] = test_prob"
      ],
      "metadata": {
        "id": "NTzetw6OhSNS"
      },
      "execution_count": 68,
      "outputs": []
    },
    {
      "cell_type": "code",
      "source": [
        "submission = submission.set_index('Id')"
      ],
      "metadata": {
        "id": "aqAB3KXI1IO6"
      },
      "execution_count": 69,
      "outputs": []
    },
    {
      "cell_type": "code",
      "source": [
        "submission.to_csv('submission.csv')"
      ],
      "metadata": {
        "id": "q3xhm3sl28VH"
      },
      "execution_count": 70,
      "outputs": []
    }
  ]
}