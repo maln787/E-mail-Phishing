{
 "cells": [
  {
   "cell_type": "code",
   "execution_count": 2,
   "id": "557452af",
   "metadata": {},
   "outputs": [],
   "source": [
    "import pandas as pd\n",
    "import os\n"
   ]
  },
  {
   "cell_type": "code",
   "execution_count": 2,
   "id": "11fd2a59",
   "metadata": {},
   "outputs": [],
   "source": [
    "df = pd.read_csv('Email-trainingdata-20k.csv') ##importing data and removing the 'subject:' part from the data\n",
    "df = df.reset_index()\n",
    "for row in df.itertuples():\n",
    "    x = row.index[9:]\n",
    "    df.at[row.Index, 'index'] = x\n"
   ]
  },
  {
   "cell_type": "code",
   "execution_count": 3,
   "id": "a6246454",
   "metadata": {},
   "outputs": [],
   "source": [
    "df.drop(columns=['phishing'],inplace=True) #dropping spam and ham"
   ]
  },
  {
   "cell_type": "code",
   "execution_count": 4,
   "id": "4ac5716a",
   "metadata": {},
   "outputs": [],
   "source": [
    "df['email']=1 ##replacing phishing to 1"
   ]
  },
  {
   "cell_type": "code",
   "execution_count": 5,
   "id": "5a379e98",
   "metadata": {},
   "outputs": [
    {
     "data": {
      "text/plain": [
       "'want to make more money ? order confirmation . your order should be shipped by january , via fedex . your federal express tracking number is % random _ word . thank you for registering . your userid is : % random _ word learn to make a fortune with ebay ! complete turnkey system software - videos - turorials clck here if you would not like to receive future mailings . '"
      ]
     },
     "execution_count": 5,
     "metadata": {},
     "output_type": "execute_result"
    }
   ],
   "source": [
    "str(df['index'][1])"
   ]
  },
  {
   "cell_type": "code",
   "execution_count": 6,
   "id": "f8d3729a",
   "metadata": {},
   "outputs": [],
   "source": [
    "# all_files = os.listdir(\"enron_spam_ham/\")\n",
    "# txt_files = filter(lambda x: x[-4:] == '.txt', all_files)\n",
    "index = []\n",
    "email = []"
   ]
  },
  {
   "cell_type": "code",
   "execution_count": 7,
   "id": "5119f2f0",
   "metadata": {},
   "outputs": [],
   "source": [
    "for i in range(1,7):\n",
    "    folder = \"enron_spam_ham/enron\"+str(i)\n",
    "    file_list_spam = os.listdir(folder+\"/spam/\")\n",
    "    file_list_ham = os.listdir(folder+\"/ham/\")\n",
    "    for file in file_list_spam:\n",
    "        with open(folder+\"/spam/\"+file,'r',encoding=\"latin-1\") as f:\n",
    "            lines = f.readlines()\n",
    "            index.append(lines[0][9:]+' '.join(lines[1:]))\n",
    "            email.append(1)\n",
    "#             target.append('spam')\n",
    "    for file in file_list_ham:\n",
    "        with open(folder+\"/ham/\"+file,'r',encoding=\"latin-1\") as f:\n",
    "            lines = f.readlines()\n",
    "            index.append(lines[0][9:]+' '.join(lines[1:]))\n",
    "            email.append(0)\n",
    "#             target.append('ham')\n",
    "        \n",
    "    "
   ]
  },
  {
   "cell_type": "code",
   "execution_count": 8,
   "id": "b239caf4",
   "metadata": {},
   "outputs": [],
   "source": [
    "df1 = pd.DataFrame({\n",
    "    'index':index,\n",
    "    'email':email,\n",
    "})"
   ]
  },
  {
   "cell_type": "code",
   "execution_count": 9,
   "id": "4914e43d",
   "metadata": {},
   "outputs": [],
   "source": [
    "df = pd.concat([df,df1],ignore_index=True)"
   ]
  },
  {
   "cell_type": "code",
   "execution_count": 10,
   "id": "2b97c965",
   "metadata": {},
   "outputs": [],
   "source": [
    "df = df.rename({'index':'messages'},axis='columns')\n"
   ]
  },
  {
   "cell_type": "code",
   "execution_count": 11,
   "id": "c52300c2",
   "metadata": {},
   "outputs": [
    {
     "data": {
      "text/html": [
       "<div>\n",
       "<style scoped>\n",
       "    .dataframe tbody tr th:only-of-type {\n",
       "        vertical-align: middle;\n",
       "    }\n",
       "\n",
       "    .dataframe tbody tr th {\n",
       "        vertical-align: top;\n",
       "    }\n",
       "\n",
       "    .dataframe thead th {\n",
       "        text-align: right;\n",
       "    }\n",
       "</style>\n",
       "<table border=\"1\" class=\"dataframe\">\n",
       "  <thead>\n",
       "    <tr style=\"text-align: right;\">\n",
       "      <th></th>\n",
       "      <th>messages</th>\n",
       "      <th>email</th>\n",
       "    </tr>\n",
       "  </thead>\n",
       "  <tbody>\n",
       "    <tr>\n",
       "      <th>0</th>\n",
       "      <td>what up , , your cam babe what are you looking...</td>\n",
       "      <td>1</td>\n",
       "    </tr>\n",
       "    <tr>\n",
       "      <th>1</th>\n",
       "      <td>want to make more money ? order confirmation ....</td>\n",
       "      <td>1</td>\n",
       "    </tr>\n",
       "    <tr>\n",
       "      <th>2</th>\n",
       "      <td>food for thoughts [ join now - take a free tou...</td>\n",
       "      <td>1</td>\n",
       "    </tr>\n",
       "    <tr>\n",
       "      <th>3</th>\n",
       "      <td>your pharmacy ta would you want cheap perscrip...</td>\n",
       "      <td>1</td>\n",
       "    </tr>\n",
       "    <tr>\n",
       "      <th>4</th>\n",
       "      <td>bigger breast just from a pill image is loadin...</td>\n",
       "      <td>1</td>\n",
       "    </tr>\n",
       "    <tr>\n",
       "      <th>...</th>\n",
       "      <td>...</td>\n",
       "      <td>...</td>\n",
       "    </tr>\n",
       "    <tr>\n",
       "      <th>51541</th>\n",
       "      <td>bullets 9 / 1\\nel paso pipeline update - the u...</td>\n",
       "      <td>0</td>\n",
       "    </tr>\n",
       "    <tr>\n",
       "      <th>51542</th>\n",
       "      <td>eog material\\ni understand that eog transferre...</td>\n",
       "      <td>0</td>\n",
       "    </tr>\n",
       "    <tr>\n",
       "      <th>51543</th>\n",
       "      <td>associate / analyst fall recruiting\\ncorrectio...</td>\n",
       "      <td>0</td>\n",
       "    </tr>\n",
       "    <tr>\n",
       "      <th>51544</th>\n",
       "      <td>tw bullets 1 / 26\\ncapacity marketing - sempra...</td>\n",
       "      <td>0</td>\n",
       "    </tr>\n",
       "    <tr>\n",
       "      <th>51545</th>\n",
       "      <td>dashboard enhancements\\nin our continuing effo...</td>\n",
       "      <td>0</td>\n",
       "    </tr>\n",
       "  </tbody>\n",
       "</table>\n",
       "<p>51546 rows × 2 columns</p>\n",
       "</div>"
      ],
      "text/plain": [
       "                                                messages  email\n",
       "0      what up , , your cam babe what are you looking...      1\n",
       "1      want to make more money ? order confirmation ....      1\n",
       "2      food for thoughts [ join now - take a free tou...      1\n",
       "3      your pharmacy ta would you want cheap perscrip...      1\n",
       "4      bigger breast just from a pill image is loadin...      1\n",
       "...                                                  ...    ...\n",
       "51541  bullets 9 / 1\\nel paso pipeline update - the u...      0\n",
       "51542  eog material\\ni understand that eog transferre...      0\n",
       "51543  associate / analyst fall recruiting\\ncorrectio...      0\n",
       "51544  tw bullets 1 / 26\\ncapacity marketing - sempra...      0\n",
       "51545  dashboard enhancements\\nin our continuing effo...      0\n",
       "\n",
       "[51546 rows x 2 columns]"
      ]
     },
     "execution_count": 11,
     "metadata": {},
     "output_type": "execute_result"
    }
   ],
   "source": [
    "df"
   ]
  },
  {
   "cell_type": "code",
   "execution_count": null,
   "id": "f00e1b91",
   "metadata": {},
   "outputs": [],
   "source": []
  },
  {
   "cell_type": "markdown",
   "id": "57acc968",
   "metadata": {},
   "source": [
    "# NLP part"
   ]
  },
  {
   "cell_type": "code",
   "execution_count": 12,
   "id": "8915a3e8",
   "metadata": {},
   "outputs": [],
   "source": [
    "import re\n",
    "import nltk\n",
    "import ssl\n",
    "##ssl error aaya toh\n",
    "try:\n",
    "    _create_unverified_https_context = ssl._create_unverified_context\n",
    "except AttributeError:\n",
    "    pass\n",
    "else:\n",
    "    ssl._create_default_https_context = _create_unverified_https_context\n",
    "\n",
    "# nltk.download('stopwords')"
   ]
  },
  {
   "cell_type": "code",
   "execution_count": 13,
   "id": "dec34835",
   "metadata": {},
   "outputs": [],
   "source": [
    "from nltk.corpus import stopwords\n",
    "from nltk.stem.porter import PorterStemmer"
   ]
  },
  {
   "cell_type": "code",
   "execution_count": 14,
   "id": "5a44d248",
   "metadata": {},
   "outputs": [],
   "source": [
    "ps = PorterStemmer()\n",
    "corpus = []"
   ]
  },
  {
   "cell_type": "code",
   "execution_count": 15,
   "id": "b266afff",
   "metadata": {},
   "outputs": [],
   "source": [
    "for i in range(len(df)):\n",
    "    review = re.sub('[^a-zA-Z]',' ',str(df['messages'][i]))\n",
    "    review = review.lower().split()\n",
    "    review = [ps.stem(word) for word in review if not word in stopwords.words('english')]\n",
    "    review = ' '.join(review)\n",
    "    corpus.append(review)"
   ]
  },
  {
   "cell_type": "code",
   "execution_count": 18,
   "id": "dbd6b159",
   "metadata": {},
   "outputs": [
    {
     "data": {
      "text/plain": [
       "51546"
      ]
     },
     "execution_count": 18,
     "metadata": {},
     "output_type": "execute_result"
    }
   ],
   "source": []
  },
  {
   "cell_type": "code",
   "execution_count": 19,
   "id": "925996bb",
   "metadata": {},
   "outputs": [],
   "source": [
    "# rr = pd.DataFrame()\n",
    "# rr['messages'] = corpus\n",
    "# rr['target'] = df['email']\n",
    "# rr.to_csv('corpus.csv')"
   ]
  },
  {
   "cell_type": "code",
   "execution_count": 4,
   "id": "4021f04e",
   "metadata": {},
   "outputs": [],
   "source": [
    "import pandas as pd"
   ]
  },
  {
   "cell_type": "code",
   "execution_count": 5,
   "id": "8c223917",
   "metadata": {},
   "outputs": [],
   "source": [
    "df = pd.read_csv('corpus.csv')"
   ]
  },
  {
   "cell_type": "code",
   "execution_count": 6,
   "id": "fb65c8df",
   "metadata": {},
   "outputs": [],
   "source": [
    "df.dropna(inplace=True)"
   ]
  },
  {
   "cell_type": "code",
   "execution_count": 7,
   "id": "19c5494f",
   "metadata": {},
   "outputs": [],
   "source": [
    "corpus = list(df['messages'])"
   ]
  },
  {
   "cell_type": "code",
   "execution_count": null,
   "id": "3c53e6c2",
   "metadata": {},
   "outputs": [],
   "source": []
  },
  {
   "cell_type": "code",
   "execution_count": 8,
   "id": "cc6f3ba3",
   "metadata": {},
   "outputs": [],
   "source": [
    "from sklearn.feature_extraction.text import CountVectorizer\n",
    "cv = CountVectorizer()\n",
    "X = cv.fit_transform(corpus).toarray()"
   ]
  },
  {
   "cell_type": "code",
   "execution_count": 9,
   "id": "70af1f8c",
   "metadata": {},
   "outputs": [
    {
     "data": {
      "text/plain": [
       "array([[0, 0, 0, ..., 0, 0, 0],\n",
       "       [0, 0, 0, ..., 0, 0, 0],\n",
       "       [0, 0, 0, ..., 0, 0, 0],\n",
       "       ...,\n",
       "       [0, 0, 0, ..., 0, 0, 0],\n",
       "       [0, 0, 0, ..., 0, 0, 0],\n",
       "       [0, 0, 0, ..., 0, 0, 0]])"
      ]
     },
     "execution_count": 9,
     "metadata": {},
     "output_type": "execute_result"
    }
   ],
   "source": [
    "X"
   ]
  },
  {
   "cell_type": "code",
   "execution_count": 10,
   "id": "8509bfdd",
   "metadata": {},
   "outputs": [
    {
     "data": {
      "text/plain": [
       "(51473, 118451)"
      ]
     },
     "execution_count": 10,
     "metadata": {},
     "output_type": "execute_result"
    }
   ],
   "source": [
    "X.shape"
   ]
  },
  {
   "cell_type": "code",
   "execution_count": 11,
   "id": "9e837abb",
   "metadata": {},
   "outputs": [],
   "source": [
    "y = df['target'].values\n"
   ]
  },
  {
   "cell_type": "code",
   "execution_count": 12,
   "id": "6d14c926",
   "metadata": {},
   "outputs": [
    {
     "data": {
      "text/plain": [
       "51473"
      ]
     },
     "execution_count": 12,
     "metadata": {},
     "output_type": "execute_result"
    }
   ],
   "source": [
    "len(y)"
   ]
  },
  {
   "cell_type": "code",
   "execution_count": null,
   "id": "24ed29d8",
   "metadata": {},
   "outputs": [],
   "source": [
    "from sklearn.model_selection import train_test_split\n",
    "X_train, X_test, y_train, y_test = train_test_split(X,y,test_size = .2,random_state=42)"
   ]
  },
  {
   "cell_type": "code",
   "execution_count": null,
   "id": "915a00de",
   "metadata": {},
   "outputs": [],
   "source": []
  }
 ],
 "metadata": {
  "kernelspec": {
   "display_name": "Python 3",
   "language": "python",
   "name": "python3"
  },
  "language_info": {
   "codemirror_mode": {
    "name": "ipython",
    "version": 3
   },
   "file_extension": ".py",
   "mimetype": "text/x-python",
   "name": "python",
   "nbconvert_exporter": "python",
   "pygments_lexer": "ipython3",
   "version": "3.9.2"
  }
 },
 "nbformat": 4,
 "nbformat_minor": 5
}
