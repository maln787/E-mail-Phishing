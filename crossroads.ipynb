{
  "nbformat": 4,
  "nbformat_minor": 0,
  "metadata": {
    "colab": {
      "name": "crossroads.ipynb",
      "provenance": [],
      "collapsed_sections": [],
      "machine_shape": "hm"
    },
    "kernelspec": {
      "name": "python3",
      "display_name": "Python 3"
    },
    "language_info": {
      "name": "python"
    },
    "accelerator": "GPU"
  },
  "cells": [
    {
      "cell_type": "code",
      "execution_count": 16,
      "metadata": {
        "id": "lIV6ew-yncAx"
      },
      "outputs": [],
      "source": [
        "import pandas as pd\n"
      ]
    },
    {
      "cell_type": "code",
      "source": [
        "df = pd.read_csv('corpus.csv')"
      ],
      "metadata": {
        "id": "J4fy_VKTn7fV"
      },
      "execution_count": 17,
      "outputs": []
    },
    {
      "cell_type": "code",
      "source": [
        "df.dropna(inplace=True)"
      ],
      "metadata": {
        "id": "4-SNwSi1nqbd"
      },
      "execution_count": 18,
      "outputs": []
    },
    {
      "cell_type": "code",
      "source": [
        "corpus = list(df['messages'])"
      ],
      "metadata": {
        "id": "3kQKPcA5n5EV"
      },
      "execution_count": 19,
      "outputs": []
    },
    {
      "cell_type": "code",
      "source": [
        "from sklearn.feature_extraction.text import CountVectorizer\n"
      ],
      "metadata": {
        "id": "kO6ygZkwn--m"
      },
      "execution_count": 20,
      "outputs": []
    },
    {
      "cell_type": "code",
      "source": [
        "cv = CountVectorizer(max_features = 1000)\n",
        "X = cv.fit_transform(corpus).toarray()"
      ],
      "metadata": {
        "id": "Ziky-0YuElSQ"
      },
      "execution_count": 21,
      "outputs": []
    },
    {
      "cell_type": "code",
      "source": [
        "X.shape"
      ],
      "metadata": {
        "colab": {
          "base_uri": "https://localhost:8080/"
        },
        "id": "mFtQdJg4HHwH",
        "outputId": "5e186a79-78a0-4ae5-8679-e08a40a87dff"
      },
      "execution_count": 22,
      "outputs": [
        {
          "output_type": "execute_result",
          "data": {
            "text/plain": [
              "(51473, 1000)"
            ]
          },
          "metadata": {},
          "execution_count": 22
        }
      ]
    },
    {
      "cell_type": "code",
      "source": [
        "y = df['target'].values"
      ],
      "metadata": {
        "id": "XvKEj5mDn_A8"
      },
      "execution_count": 23,
      "outputs": []
    },
    {
      "cell_type": "code",
      "source": [
        "from sklearn.model_selection import train_test_split\n",
        "X_train, X_test, y_train, y_test = train_test_split(X,y,test_size = .2,random_state=42)"
      ],
      "metadata": {
        "id": "PXerWH8rn_DF"
      },
      "execution_count": 24,
      "outputs": []
    },
    {
      "cell_type": "code",
      "source": [
        "from sklearn.ensemble import RandomForestClassifier\n",
        "from sklearn.metrics import accuracy_score, confusion_matrix, roc_auc_score\n"
      ],
      "metadata": {
        "id": "FrMDgTn6FAHn"
      },
      "execution_count": 25,
      "outputs": []
    },
    {
      "cell_type": "code",
      "source": [
        "def classifier(clf,X_train, X_test, y_train, y_test):\n",
        "  clf.fit(X_train,y_train)\n",
        "  print(\"Train Results \\n\")\n",
        "  y_train_pred  = clf.predict(X_train)\n",
        "  y_train_prob = clf.predict_proba(X_train)[:,1]\n",
        "\n",
        "  print(\"Confusion Matrix for Train : \\n\", confusion_matrix(y_train, y_train_pred))\n",
        "  print(\"Accuracy Score for Train : \", accuracy_score(y_train, y_train_pred))\n",
        "  print(\"ROC AUC for Train : \", roc_auc_score(y_train, y_train_prob))\n",
        "\n",
        "  print(\"Test Results \\n\")\n",
        "  y_test_pred  = clf.predict(X_test)\n",
        "  y_test_prob = clf.predict_proba(X_test)[:,1]\n",
        "\n",
        "\n",
        "  print(\"Confusion Matrix for Test : \\n\", confusion_matrix(y_test, y_test_pred))\n",
        "  print(\"Accuracy Score for Test : \", accuracy_score(y_test, y_test_pred))\n",
        "  print(\"ROC AUC for Test : \", roc_auc_score(y_test, y_test_prob))\n",
        "\n"
      ],
      "metadata": {
        "id": "EVOxl7KUxSAL"
      },
      "execution_count": 88,
      "outputs": []
    },
    {
      "cell_type": "markdown",
      "source": [
        "## Random Forest Classifier"
      ],
      "metadata": {
        "id": "SEpYMBgVyvHe"
      }
    },
    {
      "cell_type": "code",
      "source": [
        "rfc = RandomForestClassifier(max_depth=15,max_features=50,n_estimators=400,random_state=4)"
      ],
      "metadata": {
        "id": "vagcRbzin_FX"
      },
      "execution_count": 26,
      "outputs": []
    },
    {
      "cell_type": "code",
      "source": [
        "classifier(rfc,X_train, X_test, y_train, y_test)"
      ],
      "metadata": {
        "id": "1-vYDoE4xv6w",
        "outputId": "1e8f70eb-2e20-47d3-9ac0-db854bbd5e63",
        "colab": {
          "base_uri": "https://localhost:8080/"
        }
      },
      "execution_count": 89,
      "outputs": [
        {
          "output_type": "stream",
          "name": "stdout",
          "text": [
            "Train Results \n",
            "\n",
            "Confusion Matrix for Train : \n",
            " [[ 8253  4966]\n",
            " [ 2253 25706]]\n",
            "Accuracy Score for Train :  0.8246879401622226\n",
            "ROC AUC for Train :  0.9256125343275976\n",
            "Test Results \n",
            "\n",
            "Confusion Matrix for Test : \n",
            " [[1866 1460]\n",
            " [ 726 6243]]\n",
            "Accuracy Score for Test :  0.7876639145216124\n",
            "ROC AUC for Test :  0.9008317005979664\n"
          ]
        }
      ]
    },
    {
      "cell_type": "code",
      "source": [
        ""
      ],
      "metadata": {
        "id": "2Dz3v-k7w9p-"
      },
      "execution_count": null,
      "outputs": []
    },
    {
      "cell_type": "markdown",
      "source": [
        "## Light GBM"
      ],
      "metadata": {
        "id": "tgbx7_FXyyjd"
      }
    },
    {
      "cell_type": "markdown",
      "source": [
        "normal lgb with params"
      ],
      "metadata": {
        "id": "DaM5k68c3wtb"
      }
    },
    {
      "cell_type": "code",
      "source": [
        "import lightgbm as lgb"
      ],
      "metadata": {
        "id": "89mwnsEUy5GO"
      },
      "execution_count": 90,
      "outputs": []
    },
    {
      "cell_type": "code",
      "source": [
        "d_train=lgb.Dataset(X_train, label=y_train)"
      ],
      "metadata": {
        "id": "lRqV1IfUw9sO"
      },
      "execution_count": 91,
      "outputs": []
    },
    {
      "cell_type": "code",
      "source": [
        "params={}\n",
        "params['learning_rate']=0.01\n",
        "params['boosting_type']='gbdt' #GradientBoostingDecisionTree\n",
        "params['objective']='binary' #Binary target feature\n",
        "params['metric']='binary_logloss' #metric for binary classification\n",
        "params['max_depth']=20\n",
        "#train the model \n",
        "clf=lgb.train(params,d_train,500) #train the model on 100 epocs\n",
        "#prediction on the test set\n",
        "y_pred_train = clf.predict(X_train)\n",
        "y_pred=clf.predict(X_test)"
      ],
      "metadata": {
        "id": "TtRXhyAZw9xA"
      },
      "execution_count": 114,
      "outputs": []
    },
    {
      "cell_type": "code",
      "source": [
        "y_pred_round = []\n",
        "for i in y_pred:\n",
        "  if i<0.5:\n",
        "    y_pred_round.append(0)\n",
        "  else:\n",
        "    y_pred_round.append(1)\n",
        "y_train_round = []\n",
        "for i in y_pred_train:\n",
        "  if i<0.5:\n",
        "    y_train_round.append(0)\n",
        "  else:\n",
        "    y_train_round.append(1)"
      ],
      "metadata": {
        "id": "mOdw5XLn1YU4"
      },
      "execution_count": 115,
      "outputs": []
    },
    {
      "cell_type": "code",
      "source": [
        "print(\"Training Acc: \",accuracy_score(y_train_round, y_train))\n",
        "print(\"Testing Acc: \",accuracy_score(y_pred_round, y_test))"
      ],
      "metadata": {
        "id": "_HbuVNRO0DXi",
        "outputId": "d9ea4e01-93c6-4721-8f9b-3142fc24ec7d",
        "colab": {
          "base_uri": "https://localhost:8080/"
        }
      },
      "execution_count": 118,
      "outputs": [
        {
          "output_type": "stream",
          "name": "stdout",
          "text": [
            "Training Acc:  0.8274321239496819\n",
            "Testing Acc:  0.8142787761049053\n"
          ]
        }
      ]
    },
    {
      "cell_type": "code",
      "source": [
        ""
      ],
      "metadata": {
        "id": "yLcw-nnYzEF7"
      },
      "execution_count": 118,
      "outputs": []
    },
    {
      "cell_type": "markdown",
      "source": [
        "lgb classifier\n"
      ],
      "metadata": {
        "id": "zz5lrOOx3zr2"
      }
    },
    {
      "cell_type": "markdown",
      "source": [
        "boosting_type='gbdt', class_weight=None, colsample_bytree=1.0,\n",
        "               importance_type='split', learning_rate=0.1, max_depth=-1,\n",
        "               min_child_samples=20, min_child_weight=0.001, min_split_gain=0.0,\n",
        "               n_estimators=100, n_jobs=-1, num_leaves=31, objective=None,\n",
        "               random_state=None, reg_alpha=0.0, reg_lambda=0.0, silent=True,\n",
        "               subsample=1.0, subsample_for_bin=200000, subsample_freq=0)\n"
      ],
      "metadata": {
        "id": "lW_PpLsf4RNn"
      }
    },
    {
      "cell_type": "code",
      "source": [
        "clf = lgb.LGBMClassifier(boosting_type='gbdt', colsample_bytree=1.0, importance_type='split', learning_rate=0.01, max_depth=20, min_child_samples=20, min_child_weight=0.001, n_estimators=600, n_jobs=-1, num_leaves=31, objective='binary', random_state=42, reg_alpha=0.8, reg_lambda=0.6, silent=True)\n",
        "classifier(clf,X_train, X_test, y_train, y_test)"
      ],
      "metadata": {
        "id": "n8q89AYP31IU",
        "outputId": "4582394b-bf3f-450b-df52-106d292813e4",
        "colab": {
          "base_uri": "https://localhost:8080/"
        }
      },
      "execution_count": 121,
      "outputs": [
        {
          "output_type": "stream",
          "name": "stdout",
          "text": [
            "Train Results \n",
            "\n",
            "Confusion Matrix for Train : \n",
            " [[10027  3192]\n",
            " [ 3870 24089]]\n",
            "Accuracy Score for Train :  0.8285006556899315\n",
            "ROC AUC for Train :  0.9267941936668251\n",
            "Test Results \n",
            "\n",
            "Confusion Matrix for Test : \n",
            " [[2419  907]\n",
            " [1018 5951]]\n",
            "Accuracy Score for Test :  0.8130160271976687\n",
            "ROC AUC for Test :  0.9156018401913396\n"
          ]
        }
      ]
    },
    {
      "cell_type": "code",
      "source": [
        ""
      ],
      "metadata": {
        "id": "t3D82qFf31Kn"
      },
      "execution_count": null,
      "outputs": []
    },
    {
      "cell_type": "code",
      "source": [
        ""
      ],
      "metadata": {
        "id": "smsO2vwX31NX"
      },
      "execution_count": null,
      "outputs": []
    },
    {
      "cell_type": "code",
      "source": [
        ""
      ],
      "metadata": {
        "id": "r8XAK4_z31QJ"
      },
      "execution_count": null,
      "outputs": []
    },
    {
      "cell_type": "code",
      "source": [
        ""
      ],
      "metadata": {
        "id": "9zSzs6r431TB"
      },
      "execution_count": null,
      "outputs": []
    },
    {
      "cell_type": "code",
      "source": [
        ""
      ],
      "metadata": {
        "id": "R3JSZrI031VO"
      },
      "execution_count": null,
      "outputs": []
    },
    {
      "cell_type": "markdown",
      "source": [
        "# TEST"
      ],
      "metadata": {
        "id": "psA_Prdyw9_-"
      }
    },
    {
      "cell_type": "code",
      "source": [
        "test = pd.read_csv('test.csv')"
      ],
      "metadata": {
        "id": "o0LVSH5Kn_Kb"
      },
      "execution_count": 46,
      "outputs": []
    },
    {
      "cell_type": "code",
      "source": [
        "id = test['Id']"
      ],
      "metadata": {
        "id": "a9Ie3Qvjqa5T"
      },
      "execution_count": 47,
      "outputs": []
    },
    {
      "cell_type": "code",
      "source": [
        "test = test[['Subject','Body']]"
      ],
      "metadata": {
        "id": "ahsSaGu6pKmE"
      },
      "execution_count": 48,
      "outputs": []
    },
    {
      "cell_type": "code",
      "source": [
        "test['messages'] = test['Subject']+' '+test['Body']"
      ],
      "metadata": {
        "id": "1pSB-7a4pK_f"
      },
      "execution_count": 49,
      "outputs": []
    },
    {
      "cell_type": "code",
      "source": [
        "import re\n",
        "import nltk\n",
        "import ssl\n",
        "##ssl error aaya toh\n",
        "try:\n",
        "    _create_unverified_https_context = ssl._create_unverified_context\n",
        "except AttributeError:\n",
        "    pass\n",
        "else:\n",
        "    ssl._create_default_https_context = _create_unverified_https_context\n",
        "\n",
        "nltk.download('stopwords')"
      ],
      "metadata": {
        "colab": {
          "base_uri": "https://localhost:8080/"
        },
        "id": "Vkf9fBO6pZSV",
        "outputId": "21027bc2-cb70-4840-fefe-7d4594ea1f98"
      },
      "execution_count": 53,
      "outputs": [
        {
          "output_type": "stream",
          "name": "stdout",
          "text": [
            "[nltk_data] Downloading package stopwords to /root/nltk_data...\n",
            "[nltk_data]   Unzipping corpora/stopwords.zip.\n"
          ]
        },
        {
          "output_type": "execute_result",
          "data": {
            "text/plain": [
              "True"
            ]
          },
          "metadata": {},
          "execution_count": 53
        }
      ]
    },
    {
      "cell_type": "code",
      "source": [
        "from nltk.corpus import stopwords\n",
        "from nltk.stem.porter import PorterStemmer"
      ],
      "metadata": {
        "id": "teFe3uUCrPr_"
      },
      "execution_count": 54,
      "outputs": []
    },
    {
      "cell_type": "code",
      "source": [
        "ps = PorterStemmer()\n",
        "test_corpus = []"
      ],
      "metadata": {
        "id": "_60INddArS6Q"
      },
      "execution_count": 58,
      "outputs": []
    },
    {
      "cell_type": "code",
      "source": [
        "for i in range(len(test)):\n",
        "    review = re.sub('[^a-zA-Z]',' ',str(test['messages'][i]))\n",
        "    review = review.lower().split()\n",
        "    review = [ps.stem(word) for word in review if not word in stopwords.words('english')]\n",
        "    review = ' '.join(review)\n",
        "    test_corpus.append(review)"
      ],
      "metadata": {
        "id": "hnkmKjxBrTO8"
      },
      "execution_count": 61,
      "outputs": []
    },
    {
      "cell_type": "code",
      "source": [
        "test_data = cv.fit_transform(test_corpus).toarray()"
      ],
      "metadata": {
        "id": "B7y0ZthHu6Mm"
      },
      "execution_count": 69,
      "outputs": []
    },
    {
      "cell_type": "code",
      "source": [
        "test_data.shape"
      ],
      "metadata": {
        "colab": {
          "base_uri": "https://localhost:8080/"
        },
        "id": "kOtkNXsnvCUh",
        "outputId": "b7c93c20-6150-4fb4-fc4a-4e50ca76b271"
      },
      "execution_count": 71,
      "outputs": [
        {
          "output_type": "execute_result",
          "data": {
            "text/plain": [
              "(4898, 1000)"
            ]
          },
          "metadata": {},
          "execution_count": 71
        }
      ]
    },
    {
      "cell_type": "code",
      "source": [
        ""
      ],
      "metadata": {
        "id": "Gh3WFZWY5N-x"
      },
      "execution_count": null,
      "outputs": []
    },
    {
      "cell_type": "markdown",
      "source": [
        "## Different classifiers for test data"
      ],
      "metadata": {
        "id": "0915KIRi5OnK"
      }
    },
    {
      "cell_type": "code",
      "source": [
        "test_prob = rfc.predict_proba(test_data)[:,1]"
      ],
      "metadata": {
        "id": "fviQSiNqrTVl"
      },
      "execution_count": 74,
      "outputs": []
    },
    {
      "cell_type": "code",
      "source": [
        "test_prob = clf.predict_proba(test_data)[:,1]"
      ],
      "metadata": {
        "id": "4h1GzT6648SW"
      },
      "execution_count": 126,
      "outputs": []
    },
    {
      "cell_type": "code",
      "source": [
        "test_prob"
      ],
      "metadata": {
        "colab": {
          "base_uri": "https://localhost:8080/"
        },
        "id": "TJpPDe79ud2p",
        "outputId": "0e57cdaa-f02c-4104-ebeb-c9f2acd5a71e"
      },
      "execution_count": 127,
      "outputs": [
        {
          "output_type": "execute_result",
          "data": {
            "text/plain": [
              "array([0.76865012, 0.93623723, 0.69842507, ..., 0.90759659, 0.61417583,\n",
              "       0.4478599 ])"
            ]
          },
          "metadata": {},
          "execution_count": 127
        }
      ]
    },
    {
      "cell_type": "markdown",
      "source": [
        "## Creation of submission,csv from here"
      ],
      "metadata": {
        "id": "y7bLBAwr5UAs"
      }
    },
    {
      "cell_type": "code",
      "source": [
        "submission = pd.DataFrame()"
      ],
      "metadata": {
        "id": "JqrBiCar5dwC"
      },
      "execution_count": 131,
      "outputs": []
    },
    {
      "cell_type": "code",
      "source": [
        "submission['Id'] = id"
      ],
      "metadata": {
        "id": "wB6YObcc5mCu"
      },
      "execution_count": 132,
      "outputs": []
    },
    {
      "cell_type": "code",
      "source": [
        "submission['Flag'] = test_prob"
      ],
      "metadata": {
        "id": "PTQMAFK7vQP5"
      },
      "execution_count": 133,
      "outputs": []
    },
    {
      "cell_type": "code",
      "source": [
        "submission = submission.set_index('Id')"
      ],
      "metadata": {
        "id": "sAopzmJBvfP2"
      },
      "execution_count": 134,
      "outputs": []
    },
    {
      "cell_type": "code",
      "source": [
        "submission.to_csv('submission.csv')"
      ],
      "metadata": {
        "id": "pY7dJwPpvhTH"
      },
      "execution_count": 136,
      "outputs": []
    },
    {
      "cell_type": "code",
      "source": [
        ""
      ],
      "metadata": {
        "id": "jqwlw4yz6Ft-"
      },
      "execution_count": null,
      "outputs": []
    },
    {
      "cell_type": "code",
      "source": [
        ""
      ],
      "metadata": {
        "id": "X93DhzKivzCo"
      },
      "execution_count": 130,
      "outputs": []
    }
  ]
}